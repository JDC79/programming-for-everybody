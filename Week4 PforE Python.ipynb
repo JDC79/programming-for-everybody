{
 "cells": [
  {
   "cell_type": "code",
   "execution_count": 1,
   "metadata": {},
   "outputs": [
    {
     "name": "stdin",
     "output_type": "stream",
     "text": [
      "Enter Hours: 45\n",
      "Enter the Rate: 10.50\n"
     ]
    },
    {
     "name": "stdout",
     "output_type": "stream",
     "text": [
      "498.75\n"
     ]
    }
   ],
   "source": [
    "#3.1 Write a program to prompt the user for hours and rate per hour using input to compute gross pay. Pay the hourly rate for the hours up to 40 and 1.5 times the hourly rate for all hours worked above 40 hours. Use 45 hours and a rate of 10.50 per hour to test the program (the pay should be 498.75). You should use input to read a string and float() to convert the string to a number. Do not worry about error checking the user input - assume the user types numbers properly.\n",
    "#Desired output 498.75\n",
    "hrs = input(\"Enter Hours:\")\n",
    "h = float(hrs)\n",
    "xx = input(\"Enter the Rate:\")\n",
    "x = float(xx)\n",
    "if h <= 40:\n",
    " \tprint( h  * x)\n",
    "elif h > 40:\n",
    "\tprint(40* x + (h-40)*1.5*x)"
   ]
  },
  {
   "cell_type": "code",
   "execution_count": null,
   "metadata": {},
   "outputs": [],
   "source": [
    "#3.3 Write a program to prompt for a score between 0.0 and 1.0. If the score is out of range, print an error. If the score is between 0.0 and 1.0, print a grade using the following table:\n",
    "#Score Grade\n",
    "#>= 0.9 A\n",
    "#>= 0.8 B\n",
    "#>= 0.7 C\n",
    "#>= 0.6 D\n",
    "#< 0.6 F\n",
    "#If the user enters a value out of range, print a suitable error message and exit. For the test, enter a score of 0.85\n",
    "#Desired output B"
   ]
  },
  {
   "cell_type": "code",
   "execution_count": 6,
   "metadata": {},
   "outputs": [
    {
     "name": "stdin",
     "output_type": "stream",
     "text": [
      "What is your score between 0.0 abd 1.0? 0.85\n"
     ]
    },
    {
     "name": "stdout",
     "output_type": "stream",
     "text": [
      "B\n"
     ]
    }
   ],
   "source": [
    "grade = input(\"What is your score between 0.0 abd 1.0?\")\n",
    "score = float(grade)\n",
    "if score >= 0.9:\n",
    "    print (\"A\")\n",
    "elif score >= 0.8:\n",
    "    print (\"B\")\n",
    "elif score >= 0.7:\n",
    "    print (\"C\")\n",
    "elif score >= 0.6:\n",
    "    print (\"D\")\n",
    "elif score < 0.6:\n",
    "    print (\"F\")\n",
    "else:\n",
    "    print (\"Error, please check and retype your score\")"
   ]
  },
  {
   "cell_type": "code",
   "execution_count": null,
   "metadata": {},
   "outputs": [],
   "source": []
  }
 ],
 "metadata": {
  "kernelspec": {
   "display_name": "Python 3",
   "language": "python",
   "name": "python3"
  },
  "language_info": {
   "codemirror_mode": {
    "name": "ipython",
    "version": 3
   },
   "file_extension": ".py",
   "mimetype": "text/x-python",
   "name": "python",
   "nbconvert_exporter": "python",
   "pygments_lexer": "ipython3",
   "version": "3.8.5"
  }
 },
 "nbformat": 4,
 "nbformat_minor": 4
}
